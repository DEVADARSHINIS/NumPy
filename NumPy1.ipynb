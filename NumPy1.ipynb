{
  "nbformat": 4,
  "nbformat_minor": 0,
  "metadata": {
    "colab": {
      "provenance": [],
      "toc_visible": true
    },
    "kernelspec": {
      "name": "python3",
      "display_name": "Python 3"
    },
    "language_info": {
      "name": "python"
    }
  },
  "cells": [
    {
      "cell_type": "markdown",
      "source": [
        "## NumPy Library"
      ],
      "metadata": {
        "id": "RZshE5u9RKN6"
      }
    },
    {
      "cell_type": "markdown",
      "source": [
        "## Creation of NumPy Array"
      ],
      "metadata": {
        "id": "e2NaqYi1RSfm"
      }
    },
    {
      "cell_type": "markdown",
      "source": [
        "**NumPy Library :**This is a library that allows us to work with and create multi-dimensional array."
      ],
      "metadata": {
        "id": "Hr6r_pAxRa_h"
      }
    },
    {
      "cell_type": "code",
      "execution_count": null,
      "metadata": {
        "id": "1TDngacAi30b"
      },
      "outputs": [],
      "source": [
        "# Loading the NumPy Library\n",
        "import numpy as np"
      ]
    },
    {
      "cell_type": "markdown",
      "source": [
        "**Creating a NumPy Array using NumPy**"
      ],
      "metadata": {
        "id": "1s_K0POzUZFB"
      }
    },
    {
      "cell_type": "code",
      "source": [
        "# Create a List\n",
        "mylist = [1,2,3,4,5]\n",
        "print(mylist)"
      ],
      "metadata": {
        "colab": {
          "base_uri": "https://localhost:8080/"
        },
        "id": "oLSGq8DhTcF3",
        "outputId": "38d474e6-57b4-4a84-fbae-6f5690c12714"
      },
      "execution_count": null,
      "outputs": [
        {
          "output_type": "stream",
          "name": "stdout",
          "text": [
            "[1, 2, 3, 4, 5]\n"
          ]
        }
      ]
    },
    {
      "cell_type": "code",
      "source": [
        "# Create an Array using NumPy\n",
        "np.array(mylist)"
      ],
      "metadata": {
        "colab": {
          "base_uri": "https://localhost:8080/"
        },
        "id": "VEUlgpxSTcJx",
        "outputId": "16302674-1b33-4235-80a6-ee8203b0fe56"
      },
      "execution_count": null,
      "outputs": [
        {
          "output_type": "execute_result",
          "data": {
            "text/plain": [
              "array([1, 2, 3, 4, 5])"
            ]
          },
          "metadata": {},
          "execution_count": 3
        }
      ]
    },
    {
      "cell_type": "code",
      "source": [
        "# Create an Array\n",
        "np.array([6,7,8,9])"
      ],
      "metadata": {
        "colab": {
          "base_uri": "https://localhost:8080/"
        },
        "id": "VPn5_6JOTcM3",
        "outputId": "b941b966-150c-4d6c-c3a3-c27dc30b031c"
      },
      "execution_count": null,
      "outputs": [
        {
          "output_type": "execute_result",
          "data": {
            "text/plain": [
              "array([6, 7, 8, 9])"
            ]
          },
          "metadata": {},
          "execution_count": 4
        }
      ]
    },
    {
      "cell_type": "markdown",
      "source": [
        "### Nested List to Array gets converted to Matrix 2D"
      ],
      "metadata": {
        "id": "Mp6jfs1ZW9qH"
      }
    },
    {
      "cell_type": "code",
      "source": [
        "# Create an matrix using NumPy\n",
        "mylist = [[1,2,3],[4,5,6],[7,8,9]]\n",
        "print(mylist)"
      ],
      "metadata": {
        "colab": {
          "base_uri": "https://localhost:8080/"
        },
        "id": "i_bjI2-7WmCK",
        "outputId": "96584d84-a133-42a2-847c-e403fe9cc900"
      },
      "execution_count": null,
      "outputs": [
        {
          "output_type": "stream",
          "name": "stdout",
          "text": [
            "[[1, 2, 3], [4, 5, 6], [7, 8, 9]]\n"
          ]
        }
      ]
    },
    {
      "cell_type": "code",
      "source": [
        "# Create an Array that displays as matrix this happens for nested list\n",
        "np.array(mylist)"
      ],
      "metadata": {
        "colab": {
          "base_uri": "https://localhost:8080/"
        },
        "id": "zQwEpwsDWyUc",
        "outputId": "e760a3d7-fa7f-4ed8-a609-2a190fe2384b"
      },
      "execution_count": null,
      "outputs": [
        {
          "output_type": "execute_result",
          "data": {
            "text/plain": [
              "array([[1, 2, 3],\n",
              "       [4, 5, 6],\n",
              "       [7, 8, 9]])"
            ]
          },
          "metadata": {},
          "execution_count": 18
        }
      ]
    },
    {
      "cell_type": "markdown",
      "source": [
        "**type() :** Used to find the datatype"
      ],
      "metadata": {
        "id": "po3mgZ0iUgv8"
      }
    },
    {
      "cell_type": "code",
      "source": [
        "# To find the type\n",
        "t = np.array(mylist)\n",
        "type(t)"
      ],
      "metadata": {
        "colab": {
          "base_uri": "https://localhost:8080/"
        },
        "id": "gUmNC9hmTcPu",
        "outputId": "6b5337d2-a696-45f6-8e23-6a2413ab4f0c"
      },
      "execution_count": null,
      "outputs": [
        {
          "output_type": "execute_result",
          "data": {
            "text/plain": [
              "numpy.ndarray"
            ]
          },
          "metadata": {},
          "execution_count": 6
        }
      ]
    },
    {
      "cell_type": "markdown",
      "source": [
        "### Creating Array using arange()"
      ],
      "metadata": {
        "id": "6r4mJ9xJVgmO"
      }
    },
    {
      "cell_type": "markdown",
      "source": [
        "**arange() :**This In-Built Function is similar to range(start , stop , step).Displays range of Values.**This is used to create a range of array.**"
      ],
      "metadata": {
        "id": "gHjQKp7MU0MI"
      }
    },
    {
      "cell_type": "code",
      "source": [
        "# Similar to range()\n",
        "np.arange(0,10)"
      ],
      "metadata": {
        "colab": {
          "base_uri": "https://localhost:8080/"
        },
        "id": "Bva6SUcKTcVi",
        "outputId": "b003cb6c-1e56-44d7-8036-b71e8c7df776"
      },
      "execution_count": null,
      "outputs": [
        {
          "output_type": "execute_result",
          "data": {
            "text/plain": [
              "array([0, 1, 2, 3, 4, 5, 6, 7, 8, 9])"
            ]
          },
          "metadata": {},
          "execution_count": 9
        }
      ]
    },
    {
      "cell_type": "code",
      "source": [
        "# Similar to range()\n",
        "np.arange(0,101,2)"
      ],
      "metadata": {
        "colab": {
          "base_uri": "https://localhost:8080/"
        },
        "id": "jWnKSwgFUR8F",
        "outputId": "6f05708c-b72e-47b2-d4e3-3614ef435036"
      },
      "execution_count": null,
      "outputs": [
        {
          "output_type": "execute_result",
          "data": {
            "text/plain": [
              "array([  0,   2,   4,   6,   8,  10,  12,  14,  16,  18,  20,  22,  24,\n",
              "        26,  28,  30,  32,  34,  36,  38,  40,  42,  44,  46,  48,  50,\n",
              "        52,  54,  56,  58,  60,  62,  64,  66,  68,  70,  72,  74,  76,\n",
              "        78,  80,  82,  84,  86,  88,  90,  92,  94,  96,  98, 100])"
            ]
          },
          "metadata": {},
          "execution_count": 10
        }
      ]
    },
    {
      "cell_type": "markdown",
      "source": [
        "### Creating Array with Zeros()"
      ],
      "metadata": {
        "id": "YvPvPtUSVnH0"
      }
    },
    {
      "cell_type": "code",
      "source": [
        "# Create Array with zeros\n",
        "np.zeros(5)"
      ],
      "metadata": {
        "colab": {
          "base_uri": "https://localhost:8080/"
        },
        "id": "V5gEe9Y6UR_M",
        "outputId": "a5d6580f-39dd-4009-e93d-b4c73e9e6fd0"
      },
      "execution_count": null,
      "outputs": [
        {
          "output_type": "execute_result",
          "data": {
            "text/plain": [
              "array([0., 0., 0., 0., 0.])"
            ]
          },
          "metadata": {},
          "execution_count": 11
        }
      ]
    },
    {
      "cell_type": "code",
      "source": [
        "# Create Array with zeros 2D\n",
        "np.zeros((2,5))"
      ],
      "metadata": {
        "colab": {
          "base_uri": "https://localhost:8080/"
        },
        "id": "i4HaY4NpUSDm",
        "outputId": "f74abd36-effd-478d-c7c9-796962bcab4f"
      },
      "execution_count": null,
      "outputs": [
        {
          "output_type": "execute_result",
          "data": {
            "text/plain": [
              "array([[0., 0., 0., 0., 0.],\n",
              "       [0., 0., 0., 0., 0.]])"
            ]
          },
          "metadata": {},
          "execution_count": 12
        }
      ]
    },
    {
      "cell_type": "code",
      "source": [
        "# Create Array with zeros\n",
        "np.zeros(5,dtype=\"int16\")"
      ],
      "metadata": {
        "colab": {
          "base_uri": "https://localhost:8080/"
        },
        "id": "dKft-ujlUSG2",
        "outputId": "3984c4dd-ede2-4a4c-f06e-2922dea080b1"
      },
      "execution_count": null,
      "outputs": [
        {
          "output_type": "execute_result",
          "data": {
            "text/plain": [
              "array([0, 0, 0, 0, 0], dtype=int16)"
            ]
          },
          "metadata": {},
          "execution_count": 13
        }
      ]
    },
    {
      "cell_type": "markdown",
      "source": [
        "### Creating Array using ones()"
      ],
      "metadata": {
        "id": "5Ln27WSfV_fj"
      }
    },
    {
      "cell_type": "code",
      "source": [
        "# Create Array with ones\n",
        "np.ones(5)"
      ],
      "metadata": {
        "colab": {
          "base_uri": "https://localhost:8080/"
        },
        "id": "BaYn1g8SUSKK",
        "outputId": "b1692c00-4a11-4337-e5c8-4177cc4cbad8"
      },
      "execution_count": null,
      "outputs": [
        {
          "output_type": "execute_result",
          "data": {
            "text/plain": [
              "array([1., 1., 1., 1., 1.])"
            ]
          },
          "metadata": {},
          "execution_count": 14
        }
      ]
    },
    {
      "cell_type": "code",
      "source": [
        "# Create Array with ones 3D\n",
        "np.ones((2,5,4))"
      ],
      "metadata": {
        "colab": {
          "base_uri": "https://localhost:8080/"
        },
        "id": "nWk9N8SgUSNV",
        "outputId": "885a730c-6c23-4a8e-f517-7134afc3b345"
      },
      "execution_count": null,
      "outputs": [
        {
          "output_type": "execute_result",
          "data": {
            "text/plain": [
              "array([[[1., 1., 1., 1.],\n",
              "        [1., 1., 1., 1.],\n",
              "        [1., 1., 1., 1.],\n",
              "        [1., 1., 1., 1.],\n",
              "        [1., 1., 1., 1.]],\n",
              "\n",
              "       [[1., 1., 1., 1.],\n",
              "        [1., 1., 1., 1.],\n",
              "        [1., 1., 1., 1.],\n",
              "        [1., 1., 1., 1.],\n",
              "        [1., 1., 1., 1.]]])"
            ]
          },
          "metadata": {},
          "execution_count": 16
        }
      ]
    },
    {
      "cell_type": "markdown",
      "source": [
        "### Create Identity Matrix"
      ],
      "metadata": {
        "id": "R0X8NxyaXJ2L"
      }
    },
    {
      "cell_type": "code",
      "source": [
        "# Create Identity Matrix using identity()\n",
        "np.identity(5)"
      ],
      "metadata": {
        "colab": {
          "base_uri": "https://localhost:8080/"
        },
        "id": "fymjBBUyUSQ_",
        "outputId": "fbbe3e7f-6b9b-4e2a-98df-2f94accadd37"
      },
      "execution_count": null,
      "outputs": [
        {
          "output_type": "execute_result",
          "data": {
            "text/plain": [
              "array([[1., 0., 0., 0., 0.],\n",
              "       [0., 1., 0., 0., 0.],\n",
              "       [0., 0., 1., 0., 0.],\n",
              "       [0., 0., 0., 1., 0.],\n",
              "       [0., 0., 0., 0., 1.]])"
            ]
          },
          "metadata": {},
          "execution_count": 19
        }
      ]
    },
    {
      "cell_type": "code",
      "source": [
        "# Create Identity Matrix using eye()\n",
        "np.eye(5)"
      ],
      "metadata": {
        "colab": {
          "base_uri": "https://localhost:8080/"
        },
        "id": "fPmbfQ7HUSUK",
        "outputId": "958c4e1a-bfd8-452d-ee47-3d26bed8b373"
      },
      "execution_count": null,
      "outputs": [
        {
          "output_type": "execute_result",
          "data": {
            "text/plain": [
              "array([[1., 0., 0., 0., 0.],\n",
              "       [0., 1., 0., 0., 0.],\n",
              "       [0., 0., 1., 0., 0.],\n",
              "       [0., 0., 0., 1., 0.],\n",
              "       [0., 0., 0., 0., 1.]])"
            ]
          },
          "metadata": {},
          "execution_count": 20
        }
      ]
    },
    {
      "cell_type": "markdown",
      "source": [
        "### Linspace()"
      ],
      "metadata": {
        "id": "av62dR3pXgbv"
      }
    },
    {
      "cell_type": "markdown",
      "source": [
        "**Linspace() :** This splits the values equally in a given range **linspace(start , stop , number of numbers needed between the start and stop)**"
      ],
      "metadata": {
        "id": "rn38lz5TXe50"
      }
    },
    {
      "cell_type": "code",
      "source": [
        "# Create the Linspace Array\n",
        "np.linspace(0,5,21)"
      ],
      "metadata": {
        "colab": {
          "base_uri": "https://localhost:8080/"
        },
        "id": "z6tYf5D-USX1",
        "outputId": "30f86a98-2661-4ed1-f6c5-602f55ed336f"
      },
      "execution_count": null,
      "outputs": [
        {
          "output_type": "execute_result",
          "data": {
            "text/plain": [
              "array([0.  , 0.25, 0.5 , 0.75, 1.  , 1.25, 1.5 , 1.75, 2.  , 2.25, 2.5 ,\n",
              "       2.75, 3.  , 3.25, 3.5 , 3.75, 4.  , 4.25, 4.5 , 4.75, 5.  ])"
            ]
          },
          "metadata": {},
          "execution_count": 22
        }
      ]
    },
    {
      "cell_type": "code",
      "source": [
        "# Create the Linspace Array\n",
        "len(np.linspace(0,5,21))"
      ],
      "metadata": {
        "colab": {
          "base_uri": "https://localhost:8080/"
        },
        "id": "SkjtADd6USbG",
        "outputId": "136ab989-9184-4bf9-cf42-d71d9ea3b6c1"
      },
      "execution_count": null,
      "outputs": [
        {
          "output_type": "execute_result",
          "data": {
            "text/plain": [
              "21"
            ]
          },
          "metadata": {},
          "execution_count": 23
        }
      ]
    },
    {
      "cell_type": "markdown",
      "source": [
        "### Random Values"
      ],
      "metadata": {
        "id": "tH4lyaVPfuGO"
      }
    },
    {
      "cell_type": "markdown",
      "source": [
        "**random.rand() :**This Generates random values to an array that is a uniform distribution."
      ],
      "metadata": {
        "id": "vXBXwTu3jdSD"
      }
    },
    {
      "cell_type": "code",
      "source": [
        "# Create a random Array\n",
        "np.random.rand(0,10)"
      ],
      "metadata": {
        "colab": {
          "base_uri": "https://localhost:8080/"
        },
        "id": "cM9MJqBUUSe0",
        "outputId": "b2c7d29e-60e6-40af-e384-ab367f77bb07"
      },
      "execution_count": null,
      "outputs": [
        {
          "output_type": "execute_result",
          "data": {
            "text/plain": [
              "array([], shape=(0, 10), dtype=float64)"
            ]
          },
          "metadata": {},
          "execution_count": 24
        }
      ]
    },
    {
      "cell_type": "code",
      "source": [
        "# Create a random Array\n",
        "np.random.rand(10)"
      ],
      "metadata": {
        "colab": {
          "base_uri": "https://localhost:8080/"
        },
        "id": "vc1NyPLqUSiA",
        "outputId": "13b8f96d-c871-4401-b968-879dcbbab3d6"
      },
      "execution_count": null,
      "outputs": [
        {
          "output_type": "execute_result",
          "data": {
            "text/plain": [
              "array([0.78418053, 0.32494025, 0.98485257, 0.66460099, 0.40703237,\n",
              "       0.1500168 , 0.24305907, 0.96497914, 0.52899946, 0.97884302])"
            ]
          },
          "metadata": {},
          "execution_count": 25
        }
      ]
    },
    {
      "cell_type": "markdown",
      "source": [
        "**random.randint() :**The randint(start , end , size).numpy. random. rand() from a uniform distribution (in the range [0,1))"
      ],
      "metadata": {
        "id": "5gkvMK8CkWqN"
      }
    },
    {
      "cell_type": "code",
      "source": [
        "# Create a random Array\n",
        "np.random.randint(0,20,10)"
      ],
      "metadata": {
        "colab": {
          "base_uri": "https://localhost:8080/"
        },
        "id": "t86pdwJ0USlN",
        "outputId": "d2c5d25e-c939-4cfe-a639-0f1027e95f19"
      },
      "execution_count": null,
      "outputs": [
        {
          "output_type": "execute_result",
          "data": {
            "text/plain": [
              "array([ 4, 10, 11,  9, 17, 17,  9,  6, 18,  0])"
            ]
          },
          "metadata": {},
          "execution_count": 29
        }
      ]
    },
    {
      "cell_type": "code",
      "source": [
        "# Create a random Array nested\n",
        "np.random.randint(0,20,(2,4))"
      ],
      "metadata": {
        "colab": {
          "base_uri": "https://localhost:8080/"
        },
        "id": "Mt-LhPrmmXkq",
        "outputId": "1860af9f-4654-4774-80cf-010649008e94"
      },
      "execution_count": null,
      "outputs": [
        {
          "output_type": "execute_result",
          "data": {
            "text/plain": [
              "array([[10, 16,  9,  4],\n",
              "       [ 0, 15,  3,  9]])"
            ]
          },
          "metadata": {},
          "execution_count": 33
        }
      ]
    },
    {
      "cell_type": "markdown",
      "source": [
        "**random.randn() :** randn generates samples from the normal distribution"
      ],
      "metadata": {
        "id": "LlPYej3IlRhQ"
      }
    },
    {
      "cell_type": "code",
      "source": [
        "# Create a random Array\n",
        "np.random.randn(10)"
      ],
      "metadata": {
        "colab": {
          "base_uri": "https://localhost:8080/"
        },
        "id": "A6UryzbPUSpn",
        "outputId": "cb3bf555-56bf-439c-a386-be9dc9593201"
      },
      "execution_count": null,
      "outputs": [
        {
          "output_type": "execute_result",
          "data": {
            "text/plain": [
              "array([-0.54455482, -0.55380794, -1.53881477, -1.21970006,  0.14600221,\n",
              "        0.84602351,  1.69910294, -0.24987328,  0.57032963, -0.52437581])"
            ]
          },
          "metadata": {},
          "execution_count": 32
        }
      ]
    },
    {
      "cell_type": "markdown",
      "source": [
        "### seed()"
      ],
      "metadata": {
        "id": "Aukk5JICmfGf"
      }
    },
    {
      "cell_type": "markdown",
      "source": [
        "**seed() :**seed is a function in the NumPy library that sets the seed for generating random numbers"
      ],
      "metadata": {
        "id": "-hJfgJ6GonfT"
      }
    },
    {
      "cell_type": "code",
      "source": [
        "# set the seed value\n",
        "np.random.seed(42)\n",
        "np.random.rand(5)"
      ],
      "metadata": {
        "colab": {
          "base_uri": "https://localhost:8080/"
        },
        "id": "ODfHCszLUStf",
        "outputId": "be7cf058-47b5-4d8c-ae27-2e65cbe91592"
      },
      "execution_count": null,
      "outputs": [
        {
          "output_type": "execute_result",
          "data": {
            "text/plain": [
              "array([0.37454012, 0.95071431, 0.73199394, 0.59865848, 0.15601864])"
            ]
          },
          "metadata": {},
          "execution_count": 34
        }
      ]
    },
    {
      "cell_type": "code",
      "source": [
        "# arange()\n",
        "arr = np.arange(0,25)\n",
        "arr"
      ],
      "metadata": {
        "colab": {
          "base_uri": "https://localhost:8080/"
        },
        "id": "E-V3eJPFUSwu",
        "outputId": "18fee58b-e297-4d82-d2f9-f9af5d67eb82"
      },
      "execution_count": null,
      "outputs": [
        {
          "output_type": "execute_result",
          "data": {
            "text/plain": [
              "array([ 0,  1,  2,  3,  4,  5,  6,  7,  8,  9, 10, 11, 12, 13, 14, 15, 16,\n",
              "       17, 18, 19, 20, 21, 22, 23, 24])"
            ]
          },
          "metadata": {},
          "execution_count": 35
        }
      ]
    },
    {
      "cell_type": "markdown",
      "source": [
        "**reshape() :**This is to reshape the array"
      ],
      "metadata": {
        "id": "ynCg94mCqdbR"
      }
    },
    {
      "cell_type": "code",
      "source": [
        "# Reshape()\n",
        "arr.reshape(5,5)"
      ],
      "metadata": {
        "colab": {
          "base_uri": "https://localhost:8080/"
        },
        "id": "z7vjNXs4US0M",
        "outputId": "fdc2d85a-e737-42ad-a6f2-94f283a0edc8"
      },
      "execution_count": null,
      "outputs": [
        {
          "output_type": "execute_result",
          "data": {
            "text/plain": [
              "array([[ 0,  1,  2,  3,  4],\n",
              "       [ 5,  6,  7,  8,  9],\n",
              "       [10, 11, 12, 13, 14],\n",
              "       [15, 16, 17, 18, 19],\n",
              "       [20, 21, 22, 23, 24]])"
            ]
          },
          "metadata": {},
          "execution_count": 36
        }
      ]
    },
    {
      "cell_type": "markdown",
      "source": [
        "**max() :** Finds maximum value"
      ],
      "metadata": {
        "id": "B4Atqfg_rkOW"
      }
    },
    {
      "cell_type": "code",
      "source": [
        "# Maximum\n",
        "arr.max()"
      ],
      "metadata": {
        "colab": {
          "base_uri": "https://localhost:8080/"
        },
        "id": "nFB8RicDUS4A",
        "outputId": "877496b4-7b28-45b6-e20b-477309554c1e"
      },
      "execution_count": null,
      "outputs": [
        {
          "output_type": "execute_result",
          "data": {
            "text/plain": [
              "24"
            ]
          },
          "metadata": {},
          "execution_count": 37
        }
      ]
    },
    {
      "cell_type": "markdown",
      "source": [
        "**min() :**Finds minimum value"
      ],
      "metadata": {
        "id": "S0zv9IcAr33y"
      }
    },
    {
      "cell_type": "code",
      "source": [
        "# Minimum\n",
        "arr.min()"
      ],
      "metadata": {
        "colab": {
          "base_uri": "https://localhost:8080/"
        },
        "id": "EwCkM-s8US8B",
        "outputId": "13d5f696-ed24-4cb7-8ebe-1a7489680d50"
      },
      "execution_count": null,
      "outputs": [
        {
          "output_type": "execute_result",
          "data": {
            "text/plain": [
              "0"
            ]
          },
          "metadata": {},
          "execution_count": 38
        }
      ]
    },
    {
      "cell_type": "markdown",
      "source": [
        "**sum() :**Finds the total"
      ],
      "metadata": {
        "id": "JR-zMtYEr9zd"
      }
    },
    {
      "cell_type": "code",
      "source": [
        "# Sum\n",
        "arr.sum()"
      ],
      "metadata": {
        "colab": {
          "base_uri": "https://localhost:8080/"
        },
        "id": "AhOtCCzzUS_t",
        "outputId": "733fafa8-598f-47cb-91ff-93865ab53665"
      },
      "execution_count": null,
      "outputs": [
        {
          "output_type": "execute_result",
          "data": {
            "text/plain": [
              "300"
            ]
          },
          "metadata": {},
          "execution_count": 39
        }
      ]
    },
    {
      "cell_type": "code",
      "source": [
        "# Create an Array\n",
        "arr = np.random.randint(0,101,10)\n",
        "arr"
      ],
      "metadata": {
        "colab": {
          "base_uri": "https://localhost:8080/"
        },
        "id": "x7ddCKQaUTEU",
        "outputId": "fe598ecd-7969-4a57-e0af-f268b7502160"
      },
      "execution_count": null,
      "outputs": [
        {
          "output_type": "execute_result",
          "data": {
            "text/plain": [
              "array([75, 26, 68, 23, 68, 84, 65,  7, 38, 29])"
            ]
          },
          "metadata": {},
          "execution_count": 2
        }
      ]
    },
    {
      "cell_type": "markdown",
      "source": [
        "**argmax() :**This gives the index in which the maximum number is present."
      ],
      "metadata": {
        "id": "GkjQPQHRMkL1"
      }
    },
    {
      "cell_type": "code",
      "source": [
        "# find the index that has maximum value\n",
        "arr.argmax()"
      ],
      "metadata": {
        "colab": {
          "base_uri": "https://localhost:8080/"
        },
        "id": "hzfDMFrjUTIL",
        "outputId": "ea98b2d6-ef91-49ea-da1d-14aac7188ba7"
      },
      "execution_count": null,
      "outputs": [
        {
          "output_type": "execute_result",
          "data": {
            "text/plain": [
              "5"
            ]
          },
          "metadata": {},
          "execution_count": 4
        }
      ]
    },
    {
      "cell_type": "markdown",
      "source": [
        "**argmin() :**This gives the index in which the minimum number is present."
      ],
      "metadata": {
        "id": "TOvnflXdMvN-"
      }
    },
    {
      "cell_type": "code",
      "source": [
        "# find the index that has minimum value\n",
        "arr.argmin()"
      ],
      "metadata": {
        "colab": {
          "base_uri": "https://localhost:8080/"
        },
        "id": "u48uoFahUTMK",
        "outputId": "62d59742-ade4-4025-e202-559f6c17874d"
      },
      "execution_count": null,
      "outputs": [
        {
          "output_type": "execute_result",
          "data": {
            "text/plain": [
              "7"
            ]
          },
          "metadata": {},
          "execution_count": 5
        }
      ]
    },
    {
      "cell_type": "markdown",
      "source": [
        "**dtype :**Finds the datatype"
      ],
      "metadata": {
        "id": "GodkTkdyNC_g"
      }
    },
    {
      "cell_type": "code",
      "source": [
        "# to find the datatype\n",
        "arr.dtype"
      ],
      "metadata": {
        "colab": {
          "base_uri": "https://localhost:8080/"
        },
        "id": "PPWIjYfHUTQC",
        "outputId": "a35dabb4-36bc-4184-d8ef-269994973bb1"
      },
      "execution_count": null,
      "outputs": [
        {
          "output_type": "execute_result",
          "data": {
            "text/plain": [
              "dtype('int64')"
            ]
          },
          "metadata": {},
          "execution_count": 6
        }
      ]
    },
    {
      "cell_type": "markdown",
      "source": [
        "**shape :**It prints the number of rows and columns in an array."
      ],
      "metadata": {
        "id": "gX4PN-BgNOBq"
      }
    },
    {
      "cell_type": "code",
      "source": [
        "# shape function\n",
        "arr.shape"
      ],
      "metadata": {
        "colab": {
          "base_uri": "https://localhost:8080/"
        },
        "id": "hcPDhMh4UTUF",
        "outputId": "c88c297c-bf64-4b37-aea5-8a1ca8cf9430"
      },
      "execution_count": null,
      "outputs": [
        {
          "output_type": "execute_result",
          "data": {
            "text/plain": [
              "(10,)"
            ]
          },
          "metadata": {},
          "execution_count": 7
        }
      ]
    },
    {
      "cell_type": "code",
      "source": [
        "# reshape the array\n",
        "a = arr.reshape(2,5)\n",
        "a"
      ],
      "metadata": {
        "colab": {
          "base_uri": "https://localhost:8080/"
        },
        "id": "WmnjmT9iUUUu",
        "outputId": "f0978c26-c63e-4aca-91b4-55775cae5ad7"
      },
      "execution_count": null,
      "outputs": [
        {
          "output_type": "execute_result",
          "data": {
            "text/plain": [
              "array([[75, 26, 68, 23, 68],\n",
              "       [84, 65,  7, 38, 29]])"
            ]
          },
          "metadata": {},
          "execution_count": 11
        }
      ]
    },
    {
      "cell_type": "code",
      "source": [
        "# shape\n",
        "a.shape"
      ],
      "metadata": {
        "colab": {
          "base_uri": "https://localhost:8080/"
        },
        "id": "yRg1tVQsUUif",
        "outputId": "7173c5cd-4aee-40c4-a128-c3634218685b"
      },
      "execution_count": null,
      "outputs": [
        {
          "output_type": "execute_result",
          "data": {
            "text/plain": [
              "(2, 5)"
            ]
          },
          "metadata": {},
          "execution_count": 12
        }
      ]
    },
    {
      "cell_type": "markdown",
      "source": [
        "# Indexing in NumPy Array"
      ],
      "metadata": {
        "id": "ayleQl4cQl5G"
      }
    },
    {
      "cell_type": "markdown",
      "source": [
        "### Indexing in 1D"
      ],
      "metadata": {
        "id": "7eGwflB3QrSE"
      }
    },
    {
      "cell_type": "code",
      "source": [
        "# Create an array\n",
        "arr = np.arange(1,11)\n",
        "arr"
      ],
      "metadata": {
        "colab": {
          "base_uri": "https://localhost:8080/"
        },
        "id": "M_gwDH3oUUpK",
        "outputId": "2b1ff5f1-6e9e-4e8b-b3df-d0bc7a41ae7d"
      },
      "execution_count": null,
      "outputs": [
        {
          "output_type": "execute_result",
          "data": {
            "text/plain": [
              "array([ 1,  2,  3,  4,  5,  6,  7,  8,  9, 10])"
            ]
          },
          "metadata": {},
          "execution_count": 17
        }
      ]
    },
    {
      "cell_type": "code",
      "source": [
        "# Get the element 7 from arr\n",
        "arr[6]"
      ],
      "metadata": {
        "colab": {
          "base_uri": "https://localhost:8080/"
        },
        "id": "JHoEMw5hUUul",
        "outputId": "1b8c9ed2-223d-4f6d-c35f-a7a64898fc0f"
      },
      "execution_count": null,
      "outputs": [
        {
          "output_type": "execute_result",
          "data": {
            "text/plain": [
              "7"
            ]
          },
          "metadata": {},
          "execution_count": 19
        }
      ]
    },
    {
      "cell_type": "markdown",
      "source": [
        "**Slicing/Broadcasting Selection :**To access multiple values from the required position (start , stop) other name for this selection is called **Broadcasting Selection**"
      ],
      "metadata": {
        "id": "pvVQ-WIFS9aK"
      }
    },
    {
      "cell_type": "code",
      "source": [
        "# Get elements from 1 to 5 in arr\n",
        "arr[1:6]"
      ],
      "metadata": {
        "colab": {
          "base_uri": "https://localhost:8080/"
        },
        "id": "4SWTQkFsUU0P",
        "outputId": "75ac81e4-0b85-49a6-b124-af1cd3248ffc"
      },
      "execution_count": null,
      "outputs": [
        {
          "output_type": "execute_result",
          "data": {
            "text/plain": [
              "array([2, 3, 4, 5, 6])"
            ]
          },
          "metadata": {},
          "execution_count": 20
        }
      ]
    },
    {
      "cell_type": "code",
      "source": [
        "# update the first 5 numbers in the array\n",
        "arr[:5] = 100"
      ],
      "metadata": {
        "id": "IpoVsTSRUU5J"
      },
      "execution_count": null,
      "outputs": []
    },
    {
      "cell_type": "code",
      "source": [
        "# print the updated part\n",
        "arr[:5]"
      ],
      "metadata": {
        "colab": {
          "base_uri": "https://localhost:8080/"
        },
        "id": "oCMWB0sJUU_T",
        "outputId": "ee5aa76a-4bd2-4403-d10f-bffe70ed73de"
      },
      "execution_count": null,
      "outputs": [
        {
          "output_type": "execute_result",
          "data": {
            "text/plain": [
              "array([100, 100, 100, 100, 100])"
            ]
          },
          "metadata": {},
          "execution_count": 23
        }
      ]
    },
    {
      "cell_type": "code",
      "source": [
        "# Print the updated array\n",
        "arr"
      ],
      "metadata": {
        "colab": {
          "base_uri": "https://localhost:8080/"
        },
        "id": "tvpJr1H5UVDp",
        "outputId": "07e57c5c-ec83-4c10-ddcc-36c5e6f3cd23"
      },
      "execution_count": null,
      "outputs": [
        {
          "output_type": "execute_result",
          "data": {
            "text/plain": [
              "array([100, 100, 100, 100, 100,   6,   7,   8,   9,  10])"
            ]
          },
          "metadata": {},
          "execution_count": 24
        }
      ]
    },
    {
      "cell_type": "code",
      "source": [
        "# Create the array again\n",
        "arr = np.arange(1,11)\n",
        "arr"
      ],
      "metadata": {
        "colab": {
          "base_uri": "https://localhost:8080/"
        },
        "id": "mGhTb4lYUVKF",
        "outputId": "aed9e682-5c46-48a6-c0aa-f958613703ac"
      },
      "execution_count": null,
      "outputs": [
        {
          "output_type": "execute_result",
          "data": {
            "text/plain": [
              "array([ 1,  2,  3,  4,  5,  6,  7,  8,  9, 10])"
            ]
          },
          "metadata": {},
          "execution_count": 25
        }
      ]
    },
    {
      "cell_type": "code",
      "source": [
        "# Copy the array in 'a'\n",
        "a = arr.copy()\n",
        "a"
      ],
      "metadata": {
        "colab": {
          "base_uri": "https://localhost:8080/"
        },
        "id": "pRrjkmU2UVOb",
        "outputId": "41ac8a5f-1bf3-4478-a9cd-1ad751fd6971"
      },
      "execution_count": null,
      "outputs": [
        {
          "output_type": "execute_result",
          "data": {
            "text/plain": [
              "array([ 1,  2,  3,  4,  5,  6,  7,  8,  9, 10])"
            ]
          },
          "metadata": {},
          "execution_count": 27
        }
      ]
    },
    {
      "cell_type": "code",
      "source": [
        "# update the 'a' array to 100\n",
        "a[:] = 100"
      ],
      "metadata": {
        "id": "NqRHbtN-UVTB"
      },
      "execution_count": null,
      "outputs": []
    },
    {
      "cell_type": "code",
      "source": [
        "# print 'a'\n",
        "a"
      ],
      "metadata": {
        "colab": {
          "base_uri": "https://localhost:8080/"
        },
        "id": "5G_HnX5RUVYF",
        "outputId": "fb2d900c-5d75-43ed-9343-b59cc4252584"
      },
      "execution_count": null,
      "outputs": [
        {
          "output_type": "execute_result",
          "data": {
            "text/plain": [
              "array([100, 100, 100, 100, 100, 100, 100, 100, 100, 100])"
            ]
          },
          "metadata": {},
          "execution_count": 29
        }
      ]
    },
    {
      "cell_type": "code",
      "source": [
        "# Print the original array it won't be toggled\n",
        "print(arr)"
      ],
      "metadata": {
        "colab": {
          "base_uri": "https://localhost:8080/"
        },
        "id": "sN_sMZcxUVc7",
        "outputId": "6c72fa10-5252-41a3-849b-1213f9842017"
      },
      "execution_count": null,
      "outputs": [
        {
          "output_type": "stream",
          "name": "stdout",
          "text": [
            "[ 1  2  3  4  5  6  7  8  9 10]\n"
          ]
        }
      ]
    },
    {
      "cell_type": "markdown",
      "source": [
        "### Indexing in 2D"
      ],
      "metadata": {
        "id": "Q5e1qeAJTLse"
      }
    },
    {
      "cell_type": "code",
      "source": [
        "# Create a 2D Array\n",
        "arr = np.array([[1,2,3],[4,5,6],[7,8,9]])\n",
        "arr"
      ],
      "metadata": {
        "colab": {
          "base_uri": "https://localhost:8080/"
        },
        "id": "af02p1QtUViu",
        "outputId": "438c448a-8f16-417d-915c-87733c95a6b3"
      },
      "execution_count": null,
      "outputs": [
        {
          "output_type": "execute_result",
          "data": {
            "text/plain": [
              "array([[1, 2, 3],\n",
              "       [4, 5, 6],\n",
              "       [7, 8, 9]])"
            ]
          },
          "metadata": {},
          "execution_count": 32
        }
      ]
    },
    {
      "cell_type": "markdown",
      "source": [
        "### Accessing a single element"
      ],
      "metadata": {
        "id": "tlIyL23EqqwV"
      }
    },
    {
      "cell_type": "code",
      "source": [
        "# Accessing a single element 6\n",
        "arr[1,2]"
      ],
      "metadata": {
        "colab": {
          "base_uri": "https://localhost:8080/"
        },
        "id": "nIyOLAqSqEdx",
        "outputId": "ede977e8-ecbf-4780-e840-3bf94ffd4324"
      },
      "execution_count": null,
      "outputs": [
        {
          "output_type": "execute_result",
          "data": {
            "text/plain": [
              "6"
            ]
          },
          "metadata": {},
          "execution_count": 50
        }
      ]
    },
    {
      "cell_type": "code",
      "source": [
        "# Accessing a single element 6\n",
        "arr[1][2]"
      ],
      "metadata": {
        "colab": {
          "base_uri": "https://localhost:8080/"
        },
        "id": "QIVICvxpqlZx",
        "outputId": "fa083a6e-2dcd-41c4-fd3a-aeffd2e89142"
      },
      "execution_count": null,
      "outputs": [
        {
          "output_type": "execute_result",
          "data": {
            "text/plain": [
              "6"
            ]
          },
          "metadata": {},
          "execution_count": 51
        }
      ]
    },
    {
      "cell_type": "markdown",
      "source": [
        "### Accessing a Row"
      ],
      "metadata": {
        "id": "He55Hnw5mOpb"
      }
    },
    {
      "cell_type": "code",
      "source": [
        "# Access the elements from array\n",
        "# Get the Row\n",
        "arr[0]"
      ],
      "metadata": {
        "colab": {
          "base_uri": "https://localhost:8080/"
        },
        "id": "SmWopR3WTcYj",
        "outputId": "7dec6b41-31ce-487b-b7c3-c02b98749e2e"
      },
      "execution_count": null,
      "outputs": [
        {
          "output_type": "execute_result",
          "data": {
            "text/plain": [
              "array([1, 2, 3])"
            ]
          },
          "metadata": {},
          "execution_count": 33
        }
      ]
    },
    {
      "cell_type": "code",
      "source": [
        "# Access the elements from array\n",
        "# Get the Row\n",
        "arr[1:]"
      ],
      "metadata": {
        "colab": {
          "base_uri": "https://localhost:8080/"
        },
        "id": "C_Oxmv1wTcbm",
        "outputId": "ea01c22f-009a-4712-cced-b6f53d700505"
      },
      "execution_count": null,
      "outputs": [
        {
          "output_type": "execute_result",
          "data": {
            "text/plain": [
              "array([[4, 5, 6],\n",
              "       [7, 8, 9]])"
            ]
          },
          "metadata": {},
          "execution_count": 34
        }
      ]
    },
    {
      "cell_type": "markdown",
      "source": [
        "### Accessing a Column"
      ],
      "metadata": {
        "id": "FWqAln2PmU2v"
      }
    },
    {
      "cell_type": "code",
      "source": [
        "# Access the elements from array\n",
        "# Get the column\n",
        "arr[0:3,2]"
      ],
      "metadata": {
        "colab": {
          "base_uri": "https://localhost:8080/"
        },
        "id": "ey4o2lh0Tceh",
        "outputId": "b677efa6-d6be-4d5f-eda6-d19318232eb7"
      },
      "execution_count": null,
      "outputs": [
        {
          "output_type": "execute_result",
          "data": {
            "text/plain": [
              "array([3, 6, 9])"
            ]
          },
          "metadata": {},
          "execution_count": 47
        }
      ]
    },
    {
      "cell_type": "code",
      "source": [
        "# Access the elements from array\n",
        "# Get the column\n",
        "arr[0:2,1:]"
      ],
      "metadata": {
        "colab": {
          "base_uri": "https://localhost:8080/"
        },
        "id": "UAFX9UE9p1oA",
        "outputId": "c562444e-5c20-4ed1-a25b-0979265df951"
      },
      "execution_count": null,
      "outputs": [
        {
          "output_type": "execute_result",
          "data": {
            "text/plain": [
              "array([[2, 3],\n",
              "       [5, 6]])"
            ]
          },
          "metadata": {},
          "execution_count": 48
        }
      ]
    },
    {
      "cell_type": "code",
      "source": [
        "# Reshape in the arange()\n",
        "array1 = np.arange(16).reshape(4,4)\n",
        "array1"
      ],
      "metadata": {
        "colab": {
          "base_uri": "https://localhost:8080/"
        },
        "id": "aVr2M-8tTciy",
        "outputId": "e9d9cc4e-7b21-4dfb-f1bd-a94252887ec5"
      },
      "execution_count": null,
      "outputs": [
        {
          "output_type": "execute_result",
          "data": {
            "text/plain": [
              "array([[ 0,  1,  2,  3],\n",
              "       [ 4,  5,  6,  7],\n",
              "       [ 8,  9, 10, 11],\n",
              "       [12, 13, 14, 15]])"
            ]
          },
          "metadata": {},
          "execution_count": 42
        }
      ]
    },
    {
      "cell_type": "code",
      "source": [
        "# Accessing elements\n",
        "array1[0:2, 1:3]"
      ],
      "metadata": {
        "colab": {
          "base_uri": "https://localhost:8080/"
        },
        "id": "rfmgk6qlTcmD",
        "outputId": "03c3e227-79dc-4af1-b785-65ffa4ffb91e"
      },
      "execution_count": null,
      "outputs": [
        {
          "output_type": "execute_result",
          "data": {
            "text/plain": [
              "array([[1, 2],\n",
              "       [5, 6]])"
            ]
          },
          "metadata": {},
          "execution_count": 43
        }
      ]
    },
    {
      "cell_type": "markdown",
      "source": [
        "### Comparison Operation"
      ],
      "metadata": {
        "id": "69TQxXe5r46j"
      }
    },
    {
      "cell_type": "code",
      "source": [
        "# Creating an Array\n",
        "arr = np.arange(1,11)\n",
        "print(arr)"
      ],
      "metadata": {
        "colab": {
          "base_uri": "https://localhost:8080/"
        },
        "id": "_U-DB73STco3",
        "outputId": "1301b361-a017-485f-da85-20d9e16e02f0"
      },
      "execution_count": null,
      "outputs": [
        {
          "output_type": "stream",
          "name": "stdout",
          "text": [
            "[ 1  2  3  4  5  6  7  8  9 10]\n"
          ]
        }
      ]
    },
    {
      "cell_type": "code",
      "source": [
        "# Comparison operation for an Array\n",
        "arr > 4"
      ],
      "metadata": {
        "colab": {
          "base_uri": "https://localhost:8080/"
        },
        "id": "s87OKbBPsGBn",
        "outputId": "afccc37b-8acd-440a-b76e-31f47e2d6b19"
      },
      "execution_count": null,
      "outputs": [
        {
          "output_type": "execute_result",
          "data": {
            "text/plain": [
              "array([False, False, False, False,  True,  True,  True,  True,  True,\n",
              "        True])"
            ]
          },
          "metadata": {},
          "execution_count": 53
        }
      ]
    },
    {
      "cell_type": "code",
      "source": [
        "# Comparison operation for an Array\n",
        "bool_arr = arr > 4\n",
        "bool_arr"
      ],
      "metadata": {
        "colab": {
          "base_uri": "https://localhost:8080/"
        },
        "id": "7tnllCgCsGHe",
        "outputId": "0286782f-6aec-4f9f-e44e-420a4dd66f0e"
      },
      "execution_count": null,
      "outputs": [
        {
          "output_type": "execute_result",
          "data": {
            "text/plain": [
              "array([False, False, False, False,  True,  True,  True,  True,  True,\n",
              "        True])"
            ]
          },
          "metadata": {},
          "execution_count": 55
        }
      ]
    },
    {
      "cell_type": "code",
      "source": [
        "# the array of True values\n",
        "arr[bool_arr]"
      ],
      "metadata": {
        "colab": {
          "base_uri": "https://localhost:8080/"
        },
        "id": "CoPxrvVZsGMg",
        "outputId": "addf7e5d-03b0-46c5-d527-e2007bb25468"
      },
      "execution_count": null,
      "outputs": [
        {
          "output_type": "execute_result",
          "data": {
            "text/plain": [
              "array([ 5,  6,  7,  8,  9, 10])"
            ]
          },
          "metadata": {},
          "execution_count": 56
        }
      ]
    },
    {
      "cell_type": "code",
      "source": [
        "# the array of True values alternative way\n",
        "arr[arr > 4]"
      ],
      "metadata": {
        "colab": {
          "base_uri": "https://localhost:8080/"
        },
        "id": "25sZkdxYsGRc",
        "outputId": "03faf398-17f4-4bcf-b128-81d900885344"
      },
      "execution_count": null,
      "outputs": [
        {
          "output_type": "execute_result",
          "data": {
            "text/plain": [
              "array([ 5,  6,  7,  8,  9, 10])"
            ]
          },
          "metadata": {},
          "execution_count": 58
        }
      ]
    },
    {
      "cell_type": "code",
      "source": [
        "# Get the number of true values using len()\n",
        "len(arr[arr>4])"
      ],
      "metadata": {
        "colab": {
          "base_uri": "https://localhost:8080/"
        },
        "id": "dJeLZGeowz7l",
        "outputId": "13c83def-193c-458b-e55d-cf24512743d9"
      },
      "execution_count": null,
      "outputs": [
        {
          "output_type": "execute_result",
          "data": {
            "text/plain": [
              "6"
            ]
          },
          "metadata": {},
          "execution_count": 59
        }
      ]
    },
    {
      "cell_type": "markdown",
      "source": [
        "#Universal Operations in NumPy Array"
      ],
      "metadata": {
        "id": "l5-wfnbwwyNe"
      }
    },
    {
      "cell_type": "markdown",
      "source": [
        "### Arithematic Operations"
      ],
      "metadata": {
        "id": "tnBDIG3cxZbL"
      }
    },
    {
      "cell_type": "code",
      "source": [
        "# Create an Array\n",
        "arr = np.arange(0,11)\n",
        "arr"
      ],
      "metadata": {
        "colab": {
          "base_uri": "https://localhost:8080/"
        },
        "id": "gb3qRxKCsGWV",
        "outputId": "4ad3a9f1-7cfb-4ed9-a04a-fbf29aa8d0f2"
      },
      "execution_count": null,
      "outputs": [
        {
          "output_type": "execute_result",
          "data": {
            "text/plain": [
              "array([ 0,  1,  2,  3,  4,  5,  6,  7,  8,  9, 10])"
            ]
          },
          "metadata": {},
          "execution_count": 66
        }
      ]
    },
    {
      "cell_type": "code",
      "source": [
        "# Addition\n",
        "arr + 2"
      ],
      "metadata": {
        "colab": {
          "base_uri": "https://localhost:8080/"
        },
        "id": "KewZnGUgsGbW",
        "outputId": "15c639e5-3276-4b77-f4b4-73f44aad303a"
      },
      "execution_count": null,
      "outputs": [
        {
          "output_type": "execute_result",
          "data": {
            "text/plain": [
              "array([ 2,  3,  4,  5,  6,  7,  8,  9, 10, 11, 12])"
            ]
          },
          "metadata": {},
          "execution_count": 67
        }
      ]
    },
    {
      "cell_type": "code",
      "source": [
        "# Addition\n",
        "arr + arr"
      ],
      "metadata": {
        "colab": {
          "base_uri": "https://localhost:8080/"
        },
        "id": "o5KvVBv6sGhC",
        "outputId": "a56e337a-e9c2-487d-c501-391682a5774a"
      },
      "execution_count": null,
      "outputs": [
        {
          "output_type": "execute_result",
          "data": {
            "text/plain": [
              "array([ 0,  2,  4,  6,  8, 10, 12, 14, 16, 18, 20])"
            ]
          },
          "metadata": {},
          "execution_count": 68
        }
      ]
    },
    {
      "cell_type": "code",
      "source": [
        "# subtraction\n",
        "arr - arr"
      ],
      "metadata": {
        "colab": {
          "base_uri": "https://localhost:8080/"
        },
        "id": "G6DDmwfKsGn3",
        "outputId": "77aa7744-51c0-4953-bf50-4d4a8515cc92"
      },
      "execution_count": null,
      "outputs": [
        {
          "output_type": "execute_result",
          "data": {
            "text/plain": [
              "array([0, 0, 0, 0, 0, 0, 0, 0, 0, 0, 0])"
            ]
          },
          "metadata": {},
          "execution_count": 69
        }
      ]
    },
    {
      "cell_type": "code",
      "source": [
        "# Multiplication\n",
        "arr * arr"
      ],
      "metadata": {
        "colab": {
          "base_uri": "https://localhost:8080/"
        },
        "id": "lZ9BVIIGxkR1",
        "outputId": "a8660f87-ac71-4b17-d5ca-26136fe317b6"
      },
      "execution_count": null,
      "outputs": [
        {
          "output_type": "execute_result",
          "data": {
            "text/plain": [
              "array([  0,   1,   4,   9,  16,  25,  36,  49,  64,  81, 100])"
            ]
          },
          "metadata": {},
          "execution_count": 70
        }
      ]
    },
    {
      "cell_type": "markdown",
      "source": [
        "In **Division** we will get a warning in NumPy while dividing **0/0 = nan (not any number)**"
      ],
      "metadata": {
        "id": "xQC-yPLGx2Bv"
      }
    },
    {
      "cell_type": "code",
      "source": [
        "# division\n",
        "arr / arr"
      ],
      "metadata": {
        "colab": {
          "base_uri": "https://localhost:8080/"
        },
        "id": "zMu_aTGfxkW8",
        "outputId": "e74340d4-2089-40f0-c094-fb80fba9e5a8"
      },
      "execution_count": null,
      "outputs": [
        {
          "output_type": "stream",
          "name": "stderr",
          "text": [
            "<ipython-input-71-fdd55d7cf899>:2: RuntimeWarning: invalid value encountered in divide\n",
            "  arr / arr\n"
          ]
        },
        {
          "output_type": "execute_result",
          "data": {
            "text/plain": [
              "array([nan,  1.,  1.,  1.,  1.,  1.,  1.,  1.,  1.,  1.,  1.])"
            ]
          },
          "metadata": {},
          "execution_count": 71
        }
      ]
    },
    {
      "cell_type": "markdown",
      "source": [
        "**1/0 gives division by zero error** in python but in NumPy\n",
        "on dividing 1/arr that has **1/0 will give - inf that is infinity**"
      ],
      "metadata": {
        "id": "EmdW6QSLySrl"
      }
    },
    {
      "cell_type": "code",
      "source": [
        "# division\n",
        "1 / arr"
      ],
      "metadata": {
        "colab": {
          "base_uri": "https://localhost:8080/"
        },
        "id": "kMzpxotAxkcz",
        "outputId": "25cd9d8d-0a74-424f-e651-3c79a88c09be"
      },
      "execution_count": null,
      "outputs": [
        {
          "output_type": "stream",
          "name": "stderr",
          "text": [
            "<ipython-input-73-ea01b7b4f50b>:2: RuntimeWarning: divide by zero encountered in divide\n",
            "  1 / arr\n"
          ]
        },
        {
          "output_type": "execute_result",
          "data": {
            "text/plain": [
              "array([       inf, 1.        , 0.5       , 0.33333333, 0.25      ,\n",
              "       0.2       , 0.16666667, 0.14285714, 0.125     , 0.11111111,\n",
              "       0.1       ])"
            ]
          },
          "metadata": {},
          "execution_count": 73
        }
      ]
    },
    {
      "cell_type": "markdown",
      "source": [
        "### universal operators"
      ],
      "metadata": {
        "id": "MPtIHK7nyxKB"
      }
    },
    {
      "cell_type": "code",
      "source": [
        "# Create a 2D array\n",
        "arr = np.arange(0,25).reshape(5,5)\n",
        "arr"
      ],
      "metadata": {
        "colab": {
          "base_uri": "https://localhost:8080/"
        },
        "id": "kWRFNqBGxkiJ",
        "outputId": "cb920f2a-bb30-4a82-c5cf-3557cd4846c5"
      },
      "execution_count": null,
      "outputs": [
        {
          "output_type": "execute_result",
          "data": {
            "text/plain": [
              "array([[ 0,  1,  2,  3,  4],\n",
              "       [ 5,  6,  7,  8,  9],\n",
              "       [10, 11, 12, 13, 14],\n",
              "       [15, 16, 17, 18, 19],\n",
              "       [20, 21, 22, 23, 24]])"
            ]
          },
          "metadata": {},
          "execution_count": 82
        }
      ]
    },
    {
      "cell_type": "code",
      "source": [
        "# get the sum() for the 2D array\n",
        "arr.sum()"
      ],
      "metadata": {
        "colab": {
          "base_uri": "https://localhost:8080/"
        },
        "id": "Pa-pBtjnxknM",
        "outputId": "aa1e42b1-80f2-4817-c432-f8e6b68c2a85"
      },
      "execution_count": null,
      "outputs": [
        {
          "output_type": "execute_result",
          "data": {
            "text/plain": [
              "300"
            ]
          },
          "metadata": {},
          "execution_count": 76
        }
      ]
    },
    {
      "cell_type": "code",
      "source": [
        "# get the sum of the 2D Array Column-wise\n",
        "arr.sum(axis=0)"
      ],
      "metadata": {
        "colab": {
          "base_uri": "https://localhost:8080/"
        },
        "id": "JTniIrm40t-O",
        "outputId": "5a869761-aae4-4f18-c302-7246c582b6f2"
      },
      "execution_count": null,
      "outputs": [
        {
          "output_type": "execute_result",
          "data": {
            "text/plain": [
              "array([50, 55, 60, 65, 70])"
            ]
          },
          "metadata": {},
          "execution_count": 90
        }
      ]
    },
    {
      "cell_type": "code",
      "source": [
        "# get the sum of the 2D Array Row-wise\n",
        "arr.sum(axis=1)"
      ],
      "metadata": {
        "colab": {
          "base_uri": "https://localhost:8080/"
        },
        "id": "uMQzSO_R0uIX",
        "outputId": "a281a89d-70a6-49e2-9302-1bcc75a6a33f"
      },
      "execution_count": null,
      "outputs": [
        {
          "output_type": "execute_result",
          "data": {
            "text/plain": [
              "array([ 10,  35,  60,  85, 110])"
            ]
          },
          "metadata": {},
          "execution_count": 91
        }
      ]
    },
    {
      "cell_type": "code",
      "source": [
        "# get the sin()\n",
        "np.sin(arr)"
      ],
      "metadata": {
        "colab": {
          "base_uri": "https://localhost:8080/"
        },
        "id": "YN4afIAIzQ9q",
        "outputId": "d305685b-76bc-4a94-e6c6-8410aa88d950"
      },
      "execution_count": null,
      "outputs": [
        {
          "output_type": "execute_result",
          "data": {
            "text/plain": [
              "array([[ 0.        ,  0.84147098,  0.90929743,  0.14112001, -0.7568025 ],\n",
              "       [-0.95892427, -0.2794155 ,  0.6569866 ,  0.98935825,  0.41211849],\n",
              "       [-0.54402111, -0.99999021, -0.53657292,  0.42016704,  0.99060736],\n",
              "       [ 0.65028784, -0.28790332, -0.96139749, -0.75098725,  0.14987721],\n",
              "       [ 0.91294525,  0.83665564, -0.00885131, -0.8462204 , -0.90557836]])"
            ]
          },
          "metadata": {},
          "execution_count": 83
        }
      ]
    },
    {
      "cell_type": "code",
      "source": [
        "# get the cos()\n",
        "np.cos(arr)"
      ],
      "metadata": {
        "colab": {
          "base_uri": "https://localhost:8080/"
        },
        "id": "KiU4pZZbzRDE",
        "outputId": "47ffc838-377b-430f-c600-18f604b5cecc"
      },
      "execution_count": null,
      "outputs": [
        {
          "output_type": "execute_result",
          "data": {
            "text/plain": [
              "array([[ 1.        ,  0.54030231, -0.41614684, -0.9899925 , -0.65364362],\n",
              "       [ 0.28366219,  0.96017029,  0.75390225, -0.14550003, -0.91113026],\n",
              "       [-0.83907153,  0.0044257 ,  0.84385396,  0.90744678,  0.13673722],\n",
              "       [-0.75968791, -0.95765948, -0.27516334,  0.66031671,  0.98870462],\n",
              "       [ 0.40808206, -0.54772926, -0.99996083, -0.53283302,  0.42417901]])"
            ]
          },
          "metadata": {},
          "execution_count": 84
        }
      ]
    },
    {
      "cell_type": "code",
      "source": [
        "# get the tan()\n",
        "np.tan(arr)"
      ],
      "metadata": {
        "colab": {
          "base_uri": "https://localhost:8080/"
        },
        "id": "pB3PznD2zRJH",
        "outputId": "b2b6de32-e9de-426e-c1d8-433ea53fdd2d"
      },
      "execution_count": null,
      "outputs": [
        {
          "output_type": "execute_result",
          "data": {
            "text/plain": [
              "array([[ 0.00000000e+00,  1.55740772e+00, -2.18503986e+00,\n",
              "        -1.42546543e-01,  1.15782128e+00],\n",
              "       [-3.38051501e+00, -2.91006191e-01,  8.71447983e-01,\n",
              "        -6.79971146e+00, -4.52315659e-01],\n",
              "       [ 6.48360827e-01, -2.25950846e+02, -6.35859929e-01,\n",
              "         4.63021133e-01,  7.24460662e+00],\n",
              "       [-8.55993401e-01,  3.00632242e-01,  3.49391565e+00,\n",
              "        -1.13731371e+00,  1.51589471e-01],\n",
              "       [ 2.23716094e+00, -1.52749853e+00,  8.85165604e-03,\n",
              "         1.58815308e+00, -2.13489670e+00]])"
            ]
          },
          "metadata": {},
          "execution_count": 85
        }
      ]
    },
    {
      "cell_type": "code",
      "source": [
        "# get the log()\n",
        "np.log(arr)"
      ],
      "metadata": {
        "colab": {
          "base_uri": "https://localhost:8080/"
        },
        "id": "gx0fvYYfzROl",
        "outputId": "62adff7b-acf9-4201-bf3e-28c11c503cf6"
      },
      "execution_count": null,
      "outputs": [
        {
          "output_type": "stream",
          "name": "stderr",
          "text": [
            "<ipython-input-86-1470bae28ee3>:2: RuntimeWarning: divide by zero encountered in log\n",
            "  np.log(arr)\n"
          ]
        },
        {
          "output_type": "execute_result",
          "data": {
            "text/plain": [
              "array([[      -inf, 0.        , 0.69314718, 1.09861229, 1.38629436],\n",
              "       [1.60943791, 1.79175947, 1.94591015, 2.07944154, 2.19722458],\n",
              "       [2.30258509, 2.39789527, 2.48490665, 2.56494936, 2.63905733],\n",
              "       [2.7080502 , 2.77258872, 2.83321334, 2.89037176, 2.94443898],\n",
              "       [2.99573227, 3.04452244, 3.09104245, 3.13549422, 3.17805383]])"
            ]
          },
          "metadata": {},
          "execution_count": 86
        }
      ]
    },
    {
      "cell_type": "markdown",
      "source": [
        "### Stastical Operations"
      ],
      "metadata": {
        "id": "bZQlUBHm0Ql-"
      }
    },
    {
      "cell_type": "code",
      "source": [
        "# get the mean for the above 2D Array\n",
        "arr.mean()"
      ],
      "metadata": {
        "colab": {
          "base_uri": "https://localhost:8080/"
        },
        "id": "OhUMoBoczRTz",
        "outputId": "1be62cdc-ebab-4092-a349-c9a0bb038869"
      },
      "execution_count": null,
      "outputs": [
        {
          "output_type": "execute_result",
          "data": {
            "text/plain": [
              "12.0"
            ]
          },
          "metadata": {},
          "execution_count": 87
        }
      ]
    },
    {
      "cell_type": "code",
      "source": [
        "# get the variance\n",
        "arr.var()"
      ],
      "metadata": {
        "colab": {
          "base_uri": "https://localhost:8080/"
        },
        "id": "VtpSV9I_zRZF",
        "outputId": "7e2c7672-c99e-4d83-b56d-57929ce9b37b"
      },
      "execution_count": null,
      "outputs": [
        {
          "output_type": "execute_result",
          "data": {
            "text/plain": [
              "52.0"
            ]
          },
          "metadata": {},
          "execution_count": 88
        }
      ]
    },
    {
      "cell_type": "code",
      "source": [
        "# get the standard deviation\n",
        "arr.std()"
      ],
      "metadata": {
        "colab": {
          "base_uri": "https://localhost:8080/"
        },
        "id": "lXZNfI6MzReb",
        "outputId": "4df97d61-ce4b-41ca-84c7-a10af2f471e1"
      },
      "execution_count": null,
      "outputs": [
        {
          "output_type": "execute_result",
          "data": {
            "text/plain": [
              "7.211102550927978"
            ]
          },
          "metadata": {},
          "execution_count": 89
        }
      ]
    }
  ]
}